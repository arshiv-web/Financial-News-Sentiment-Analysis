{
  "nbformat": 4,
  "nbformat_minor": 0,
  "metadata": {
    "colab": {
      "provenance": []
    },
    "kernelspec": {
      "name": "python3",
      "display_name": "Python 3"
    },
    "language_info": {
      "name": "python"
    }
  },
  "cells": [
    {
      "cell_type": "code",
      "execution_count": 123,
      "metadata": {
        "id": "ojPiNHDhaomD"
      },
      "outputs": [],
      "source": [
        "import torch\n",
        "from transformers import AutoTokenizer, AutoConfig, AutoModelForSequenceClassification\n",
        "import pandas as pd\n",
        "import os\n",
        "from sklearn.metrics import classification_report, accuracy_score"
      ]
    },
    {
      "cell_type": "code",
      "source": [
        "ID2LABEL = {\n",
        "    0: 'Drastic Fall', 1: 'Drastic Rise', 2: 'Fall', 3: 'Rise', 4: 'Stable'\n",
        "}\n",
        "LABEL2ID = {v: k for k, v in ID2LABEL.items()}"
      ],
      "metadata": {
        "id": "MOdVJpODbXbh"
      },
      "execution_count": 124,
      "outputs": []
    },
    {
      "cell_type": "code",
      "source": [
        "def run_evaluation(model_path, dataset_path):\n",
        "    model = AutoModelForSequenceClassification.from_pretrained(model_path, local_files_only=True)\n",
        "    tokenizer = AutoTokenizer.from_pretrained(model_path, local_files_only=True)\n",
        "    model.eval()\n",
        "    device = torch.device(\"cuda\" if torch.cuda.is_available() else \"cpu\")\n",
        "    model.to(device)\n",
        "\n",
        "    df = pd.read_csv(dataset_path)\n",
        "    input_texts = df['Input_Text'].tolist()\n",
        "    ground_truth_labels = df['Ground_Truth'].tolist()\n",
        "\n",
        "    print(\"Running predictions on the dataset...\")\n",
        "    ai_predictions = []\n",
        "    with torch.no_grad():\n",
        "        for text in input_texts:\n",
        "            inputs = tokenizer(text, return_tensors=\"pt\", padding=True, truncation=True, max_length=256).to(device)\n",
        "            outputs = model(**inputs)\n",
        "            logits = outputs.logits\n",
        "            predicted_class_id = torch.argmax(logits, dim=1).item()\n",
        "            ai_predictions.append(ID2LABEL[predicted_class_id])\n",
        "\n",
        "    print(\"Prediction complete.\")\n",
        "\n",
        "    df['AI_Prediction'] = ai_predictions\n",
        "    df['Is_Correct'] = (df['Ground_Truth'] == df['AI_Prediction'])\n",
        "    df.to_csv('study_dataset_with_predictions.csv', index=False)\n",
        "\n",
        "    # --- Generate and Print Report ---\n",
        "    print(\"\\n\" + \"=\"*50)\n",
        "    print(\"          Final Classification Report\")\n",
        "    print(\"=\"*50 + \"\\n\")\n",
        "\n",
        "    # Ensure all labels are present for a complete report\n",
        "    all_labels = list(LABEL2ID.keys())\n",
        "\n",
        "    report = classification_report(\n",
        "        ground_truth_labels,\n",
        "        ai_predictions,\n",
        "        labels=all_labels,\n",
        "        target_names=all_labels,\n",
        "        zero_division=0\n",
        "    )\n",
        "\n",
        "    accuracy = accuracy_score(ground_truth_labels, ai_predictions)\n",
        "\n",
        "    print(report)\n",
        "    print(\"-\" * 50)\n",
        "    print(f\"AI-Only Performance (Accuracy): {accuracy*100:.2f}%\")\n",
        "    print(\"=\"*50)"
      ],
      "metadata": {
        "id": "jJga0DEdM5HM"
      },
      "execution_count": 133,
      "outputs": []
    },
    {
      "cell_type": "code",
      "metadata": {
        "colab": {
          "base_uri": "https://localhost:8080/"
        },
        "id": "2cff2e53",
        "outputId": "1cf8b1a8-743a-4ddc-a7c4-d92a392fe33f"
      },
      "source": [
        "saved_model_directory = '/results/checkpoint-10350'\n",
        "study_dataset_path = '/study_dataset.csv'\n",
        "run_evaluation(saved_model_directory, study_dataset_path)"
      ],
      "execution_count": 134,
      "outputs": [
        {
          "output_type": "stream",
          "name": "stdout",
          "text": [
            "Running predictions on the dataset...\n",
            "Prediction complete.\n",
            "\n",
            "==================================================\n",
            "          Final Classification Report\n",
            "==================================================\n",
            "\n",
            "              precision    recall  f1-score   support\n",
            "\n",
            "Drastic Fall       0.83      0.71      0.77         7\n",
            "Drastic Rise       1.00      0.33      0.50         3\n",
            "        Fall       0.12      0.25      0.17         8\n",
            "        Rise       0.12      0.11      0.12         9\n",
            "      Stable       0.91      0.89      0.90       173\n",
            "\n",
            "    accuracy                           0.81       200\n",
            "   macro avg       0.60      0.46      0.49       200\n",
            "weighted avg       0.84      0.81      0.83       200\n",
            "\n",
            "--------------------------------------------------\n",
            "AI-Only Performance (Accuracy): 81.50%\n",
            "==================================================\n"
          ]
        }
      ]
    }
  ]
}